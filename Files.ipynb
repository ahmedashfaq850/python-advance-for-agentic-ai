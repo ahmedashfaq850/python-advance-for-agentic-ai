{
 "cells": [
  {
   "cell_type": "markdown",
   "metadata": {},
   "source": [
    "### Working with Files in Python\n"
   ]
  },
  {
   "cell_type": "markdown",
   "metadata": {},
   "source": [
    "### Modes\n",
    "'r': Read (default mode).\n",
    "   - read(): Reads the entire file as a string.\n",
    "   - readline(): Reads one line at a time.\n",
    "   - readlines(): Returns a list of all lines.\n",
    "\n",
    "'w': Write (overwrites existing file or creates a new one).\n",
    "   - write(): Writes a string to the file.\n",
    "   - writelines(): Writes a list of strings.\n",
    "\n",
    "'a': Append (adds to the end of the file).\n",
    "\n",
    "'r+': Read and write.\n",
    "\n",
    "'b': Binary mode (e.g., 'rb' for reading images).\n",
    "\n",
    "'json': json.dump(object, file) | json.load(variable) "
   ]
  },
  {
   "cell_type": "markdown",
   "metadata": {},
   "source": [
    "## 1. Read Mode"
   ]
  },
  {
   "cell_type": "code",
   "execution_count": 3,
   "metadata": {},
   "outputs": [
    {
     "name": "stdout",
     "output_type": "stream",
     "text": [
      "my name is Ahmed\n",
      "i am working with files\n"
     ]
    }
   ],
   "source": [
    "with open('example.txt', 'r') as file:\n",
    "    content = file.read()\n",
    "    print(content)"
   ]
  },
  {
   "cell_type": "code",
   "execution_count": 11,
   "metadata": {},
   "outputs": [
    {
     "name": "stdout",
     "output_type": "stream",
     "text": [
      "My name is Ahmed\n",
      "i am working with files in python\n"
     ]
    }
   ],
   "source": [
    "with open (\"example.txt\", \"r\") as file:\n",
    "    for line in file.readlines():\n",
    "        print(line.strip())  #'removes '\\n' from the end of the line\n",
    "    "
   ]
  },
  {
   "cell_type": "markdown",
   "metadata": {},
   "source": [
    "Large Files: Reading the entire file at once with read() can crash your program for huge files. Instead, process line by line:"
   ]
  },
  {
   "cell_type": "code",
   "execution_count": 14,
   "metadata": {},
   "outputs": [
    {
     "name": "stdout",
     "output_type": "stream",
     "text": [
      "My name is Ahmed\n",
      "\n",
      "i am working with files in python\n"
     ]
    }
   ],
   "source": [
    "with open(\"example.txt\", \"r\") as f:\n",
    "    for line in f:  # Memory-efficient (reads line by line)\n",
    "        print(line)"
   ]
  },
  {
   "cell_type": "markdown",
   "metadata": {},
   "source": [
    "### File Not Found: Always handle FileNotFoundError"
   ]
  },
  {
   "cell_type": "code",
   "execution_count": 15,
   "metadata": {},
   "outputs": [
    {
     "name": "stdout",
     "output_type": "stream",
     "text": [
      "File does not exist!\n"
     ]
    }
   ],
   "source": [
    "try:\n",
    "    with open(\"missing.txt\", \"r\") as f:\n",
    "        print(f.read())\n",
    "except FileNotFoundError:\n",
    "    print(\"File does not exist!\")"
   ]
  },
  {
   "cell_type": "markdown",
   "metadata": {},
   "source": [
    "## 2. Write Mode"
   ]
  },
  {
   "cell_type": "code",
   "execution_count": 16,
   "metadata": {},
   "outputs": [],
   "source": [
    "try:\n",
    "    with open(\"example.txt\", \"w\") as file:\n",
    "        file.write(\"Hello, World!\")\n",
    "except FileNotFoundError:\n",
    "    print(\"File does not exist!\")\n"
   ]
  },
  {
   "cell_type": "code",
   "execution_count": 17,
   "metadata": {},
   "outputs": [],
   "source": [
    "try:\n",
    "    with open(\"example.txt\", \"w\") as file:\n",
    "        file.writelines([\"Ahmed\\n\", \"Ashfaq\\n\"])\n",
    "except FileNotFoundError:\n",
    "    print(\"File does not exist!\")\n"
   ]
  },
  {
   "cell_type": "markdown",
   "metadata": {},
   "source": [
    "## 3. Binary Files"
   ]
  },
  {
   "cell_type": "code",
   "execution_count": null,
   "metadata": {},
   "outputs": [],
   "source": [
    "with open(\"haseeb_optimized.png\", \"rb\") as src:\n",
    "    with open(\"copy.jpg\", \"wb\") as dest:\n",
    "        dest.write(src.read())"
   ]
  },
  {
   "cell_type": "code",
   "execution_count": 21,
   "metadata": {},
   "outputs": [],
   "source": [
    "#memory efficient way to copy binary files\n",
    "\n",
    "with open(\"haseeb_optimized.png\", \"rb\") as src:\n",
    "    with open(\"copy.jpg\", \"wb\") as dest:\n",
    "        chunk_size = 1024  # 1KB chunks\n",
    "        while True:\n",
    "            chunk = src.read(chunk_size)\n",
    "            if not chunk:\n",
    "                break\n",
    "            dest.write(chunk)"
   ]
  },
  {
   "cell_type": "markdown",
   "metadata": {},
   "source": [
    "## 4. File Handling Pitfalls"
   ]
  },
  {
   "cell_type": "markdown",
   "metadata": {},
   "source": [
    "Specify encoding (e.g., encoding='utf-8') to avoid errors with non-ASCII characters:\n",
    "\n"
   ]
  },
  {
   "cell_type": "code",
   "execution_count": 23,
   "metadata": {},
   "outputs": [
    {
     "name": "stdout",
     "output_type": "stream",
     "text": [
      "Ahmed\n",
      "Ashfaq\n",
      "\n"
     ]
    }
   ],
   "source": [
    "with open(\"example.txt\", \"r\", encoding=\"utf-8\") as file:\n",
    "    content = file.read()\n",
    "    print(content)"
   ]
  },
  {
   "cell_type": "markdown",
   "metadata": {},
   "source": [
    "Using with prevents this, but if you manually open a file, always close it:"
   ]
  },
  {
   "cell_type": "code",
   "execution_count": 24,
   "metadata": {},
   "outputs": [
    {
     "name": "stdout",
     "output_type": "stream",
     "text": [
      "Ahmed\n",
      "Ashfaq\n",
      "\n"
     ]
    }
   ],
   "source": [
    "myfile = open('example.txt', \"r\", encoding=\"utf-8\")\n",
    "try:\n",
    "    content = myfile.read()\n",
    "    print(content)\n",
    "except FileNotFoundError:\n",
    "    print(\"File does not exist!\")\n",
    "finally:\n",
    "    myfile.close()"
   ]
  },
  {
   "cell_type": "markdown",
   "metadata": {},
   "source": [
    "## 5. JSON Files"
   ]
  },
  {
   "cell_type": "code",
   "execution_count": 25,
   "metadata": {},
   "outputs": [],
   "source": [
    "import json\n",
    "\n",
    "data = {\"name\": \"Ahmed\", \"age\": 20}\n",
    "\n",
    "with open(\"data.json\", \"w\") as file:\n",
    "    json.dump(data, file)"
   ]
  },
  {
   "cell_type": "code",
   "execution_count": 26,
   "metadata": {},
   "outputs": [
    {
     "name": "stdout",
     "output_type": "stream",
     "text": [
      "{'name': 'Ahmed', 'age': 20}\n"
     ]
    }
   ],
   "source": [
    "with open(\"data.json\", \"r\") as file:\n",
    "    data = json.load(file)\n",
    "    print(data)"
   ]
  },
  {
   "cell_type": "markdown",
   "metadata": {},
   "source": [
    "## 6. CSV Files"
   ]
  },
  {
   "cell_type": "code",
   "execution_count": 27,
   "metadata": {},
   "outputs": [],
   "source": [
    "import csv\n",
    "\n",
    "with open('data.csv', \"w\", newline='') as file:\n",
    "    writer = csv.writer(file)\n",
    "    writer.writerow(['Name', 'Age'])\n",
    "    writer.writerow(['Ahmed', 20])\n",
    "    writer.writerow(['Ashfaq', 21])"
   ]
  },
  {
   "cell_type": "code",
   "execution_count": 28,
   "metadata": {},
   "outputs": [
    {
     "name": "stdout",
     "output_type": "stream",
     "text": [
      "['Name', 'Age']\n",
      "['Ahmed', '20']\n",
      "['Ashfaq', '21']\n"
     ]
    }
   ],
   "source": [
    "with open('data.csv', \"r\") as file:\n",
    "    reader = csv.reader(file)\n",
    "    for row in reader:\n",
    "        print(row)"
   ]
  },
  {
   "cell_type": "code",
   "execution_count": null,
   "metadata": {},
   "outputs": [],
   "source": []
  }
 ],
 "metadata": {
  "kernelspec": {
   "display_name": "Python 3",
   "language": "python",
   "name": "python3"
  },
  "language_info": {
   "codemirror_mode": {
    "name": "ipython",
    "version": 3
   },
   "file_extension": ".py",
   "mimetype": "text/x-python",
   "name": "python",
   "nbconvert_exporter": "python",
   "pygments_lexer": "ipython3",
   "version": "3.12.3"
  }
 },
 "nbformat": 4,
 "nbformat_minor": 2
}
