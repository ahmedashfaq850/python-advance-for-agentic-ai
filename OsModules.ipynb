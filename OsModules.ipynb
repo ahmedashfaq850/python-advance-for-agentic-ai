{
 "cells": [
  {
   "cell_type": "markdown",
   "metadata": {},
   "source": [
    "# Working on OS Module in Python"
   ]
  },
  {
   "cell_type": "code",
   "execution_count": 1,
   "metadata": {},
   "outputs": [
    {
     "name": "stdout",
     "output_type": "stream",
     "text": [
      "['requirements.txt', 'pyproject.toml', 'ms_data_science_df_grouped.csv', 'data.csv', 'data.json', 'README.md', 'setup.py', 'Files.ipynb', 'example.txt', 'myenv', '.git', 'OsModules.ipynb', 'src']\n"
     ]
    }
   ],
   "source": [
    "import os\n",
    "print(os.listdir()) # Lists files in the current directory"
   ]
  },
  {
   "cell_type": "markdown",
   "metadata": {},
   "source": [
    "## 1. Create/remove directories"
   ]
  },
  {
   "cell_type": "code",
   "execution_count": 6,
   "metadata": {},
   "outputs": [],
   "source": [
    "os.mkdir(\"new_dir\") # Creates a new directory\n",
    "os.makedirs(\"new_dir/sub_dir\") # Creates a new directory with subdirectories\n",
    "os.rmdir(\"new_dir\") # Removes a directory\n",
    "os.rmdir(\"new_dir/sub_dir\") # Removes a directory with subdirectories"
   ]
  },
  {
   "cell_type": "markdown",
   "metadata": {},
   "source": [
    "## 2. Get Current Directory"
   ]
  },
  {
   "cell_type": "code",
   "execution_count": 7,
   "metadata": {},
   "outputs": [
    {
     "data": {
      "text/plain": [
       "'/Users/nabahsheikh/Developer/python'"
      ]
     },
     "execution_count": 7,
     "metadata": {},
     "output_type": "execute_result"
    }
   ],
   "source": [
    "os.getcwd()\n",
    "## 3. Change Directory\n",
    "os.chdir(\"new_dir\")\n",
    "os.chdir(\"new_dir/sub_dir\")\n",
    "## 4. List Directory Contents\n",
    "os.listdir()\n"
   ]
  },
  {
   "cell_type": "markdown",
   "metadata": {},
   "source": [
    "## 3. File Operations"
   ]
  },
  {
   "cell_type": "code",
   "execution_count": 8,
   "metadata": {},
   "outputs": [],
   "source": [
    "os.rename(\"example.txt\", \"myfile.txt\")  # Rename or move a file\n",
    "os.remove(\"file.txt\") # Remove a file\n",
    "\n",
    "## 4. File Information\n",
    "os.path.exists(\"file.txt\") # Check if a file exists\n",
    "os.path.isfile(\"file.txt\") # Check if a file exists\n",
    "os.path.isdir(\"file.txt\") # Check if a directory exists\n",
    "os.path.getsize(\"file.txt\") # Get the size of a file"
   ]
  },
  {
   "cell_type": "markdown",
   "metadata": {},
   "source": [
    "## 4. Path Manipulation"
   ]
  },
  {
   "cell_type": "code",
   "execution_count": null,
   "metadata": {},
   "outputs": [],
   "source": [
    "path = os.path.join(\"folder\", \"subfolder\", \"file.txt\")  # Works on all OSes\n",
    "dir_name, file_name = os.path.split(\"/path/to/file.txt\")\n",
    "print(dir_name)   # \"/path/to\"\n",
    "print(file_name)  # \"file.txt\"\n",
    "size = os.path.getsize(\"file.txt\")      # File size in bytes\n",
    "mod_time = os.path.getmtime(\"file.txt\") # Last modified timestamp"
   ]
  },
  {
   "cell_type": "markdown",
   "metadata": {},
   "source": [
    "## 5. Environment Variables"
   ]
  },
  {
   "cell_type": "markdown",
   "metadata": {},
   "source": [
    "os.environ[\"HOME\"] = \"123\"             # Set a temporary variable\n",
    "print(os.environ.get(\"HOME\"))          # Get user's home directory"
   ]
  },
  {
   "cell_type": "code",
   "execution_count": null,
   "metadata": {},
   "outputs": [],
   "source": []
  },
  {
   "cell_type": "code",
   "execution_count": null,
   "metadata": {},
   "outputs": [],
   "source": []
  }
 ],
 "metadata": {
  "kernelspec": {
   "display_name": "Python 3",
   "language": "python",
   "name": "python3"
  },
  "language_info": {
   "codemirror_mode": {
    "name": "ipython",
    "version": 3
   },
   "file_extension": ".py",
   "mimetype": "text/x-python",
   "name": "python",
   "nbconvert_exporter": "python",
   "pygments_lexer": "ipython3",
   "version": "3.12.3"
  }
 },
 "nbformat": 4,
 "nbformat_minor": 2
}
